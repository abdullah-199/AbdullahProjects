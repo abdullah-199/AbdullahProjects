{
 "cells": [
  {
   "cell_type": "code",
   "execution_count": 2,
   "id": "12428d65-b9c9-4184-a721-301ca32e06c4",
   "metadata": {},
   "outputs": [
    {
     "name": "stdin",
     "output_type": "stream",
     "text": [
      "Enter your name: Abdullah\n",
      "Enter your hobby playing football\n"
     ]
    },
    {
     "name": "stdout",
     "output_type": "stream",
     "text": [
      "Hello, My name is  Abdullah and my hobby is playing football\n"
     ]
    }
   ],
   "source": [
    "#Exercise 1:\n",
    "#Write a Python program that prints your name and your favorite hobby\n",
    "name = str(input(\"Enter your name:\"))\n",
    "hobby = str(input(\"Enter your hobby\"))\n",
    "print(\"Hello, My name is \",name,\"and my hobby is\",hobby)"
   ]
  },
  {
   "cell_type": "code",
   "execution_count": 5,
   "id": "749cab17-543e-4d87-83b2-e257fc39090c",
   "metadata": {},
   "outputs": [
    {
     "name": "stdin",
     "output_type": "stream",
     "text": [
      "Enter your city name: Karachi\n"
     ]
    },
    {
     "name": "stdout",
     "output_type": "stream",
     "text": [
      "city: Karachi\n",
      "Sum = 15\n"
     ]
    }
   ],
   "source": [
    "#Exercise 2: \n",
    "#Create a variable called 'city' and assign your city name to it. Print the value of the variable.\n",
    "#Create two variables, 'num1' and 'num2', assign them values, and print their sum.\n",
    "City = str(input(\"Enter your city name:\"))\n",
    "print(\"city:\",City)\n",
    "num1 = 5\n",
    "num2 = 10\n",
    "sum = num1 + num2\n",
    "print(\"Sum =\",sum)"
   ]
  },
  {
   "cell_type": "code",
   "execution_count": 7,
   "id": "fdc2e334-8c9a-449f-80f8-31e6d48c8eec",
   "metadata": {},
   "outputs": [
    {
     "name": "stdin",
     "output_type": "stream",
     "text": [
      "Enter your favourite quote: mindset\n"
     ]
    },
    {
     "name": "stdout",
     "output_type": "stream",
     "text": [
      "mindset\n"
     ]
    },
    {
     "data": {
      "text/plain": [
       "str"
      ]
     },
     "execution_count": 7,
     "metadata": {},
     "output_type": "execute_result"
    }
   ],
   "source": [
    "#Exercise 3:\n",
    "#Create a variable that stores your favorite quote and print the type of the variable.\n",
    "quote = str(input(\"Enter your favourite quote:\"))\n",
    "print(quote)\n",
    "type(quote)"
   ]
  },
  {
   "cell_type": "code",
   "execution_count": 8,
   "id": "66c2d16d-73b9-40c5-84de-d951cd309b0e",
   "metadata": {},
   "outputs": [
    {
     "name": "stdout",
     "output_type": "stream",
     "text": [
      "The area of triangle is: 40\n"
     ]
    }
   ],
   "source": [
    "#Exercise 4:\n",
    "#Write a Python program that calculates the area of a rectangle (width * height).\n",
    "#Create two variables for width and height, and print the area\n",
    "width = 5\n",
    "height = 8\n",
    "area = width*height\n",
    "print(\"The area of triangle is:\",area)"
   ]
  },
  {
   "cell_type": "code",
   "execution_count": 11,
   "id": "afb45e69-f6bd-4704-8fb4-216a1b817d65",
   "metadata": {},
   "outputs": [
    {
     "name": "stdout",
     "output_type": "stream",
     "text": [
      "Abdullah---1.4---True\n",
      "\n",
      "\n"
     ]
    }
   ],
   "source": [
    "#Exercise 5:\n",
    "#Write a Python program that prints a sentence with multiple values, \n",
    "#separating them using a specific symbol like --- and ending with multiple newlines.\n",
    "print(\"Abdullah\",1.4,True,sep=\"---\",end=\"\\n\\n\\n\")"
   ]
  },
  {
   "cell_type": "code",
   "execution_count": 12,
   "id": "258d2d6a-f366-4a2e-a2a2-675225158544",
   "metadata": {},
   "outputs": [
    {
     "name": "stdout",
     "output_type": "stream",
     "text": [
      "apple\n",
      "banana\n",
      "cherry\n"
     ]
    }
   ],
   "source": [
    "#Exercise 6:\n",
    "#Assign the values \"Apple\", \"Banana\", and \"Cherry\" to three variables in a single line,\n",
    "#and print each variable.\n",
    "x,y,z = \"apple\",\"banana\",\"cherry\"\n",
    "print(x)\n",
    "print(y)\n",
    "print(z)"
   ]
  },
  {
   "cell_type": "code",
   "execution_count": 13,
   "id": "d786780a-5ebc-4f44-9b8a-6015dfcf29ac",
   "metadata": {},
   "outputs": [
    {
     "name": "stdin",
     "output_type": "stream",
     "text": [
      "Enter first number : 3\n",
      "Enter second number : 5\n"
     ]
    },
    {
     "name": "stdout",
     "output_type": "stream",
     "text": [
      "sum = 8\n",
      "subtraction = -2\n",
      "multiplication = 15\n",
      "division = 0.6\n"
     ]
    }
   ],
   "source": [
    "#Exercise 7:\n",
    "#Write a Python program that accepts two numbers as input and performs the following operations:\n",
    "#addition, subtraction, multiplication, and division.\n",
    "a = int(input(\"Enter first number :\"))\n",
    "b = int(input(\"Enter second number :\"))\n",
    "print(\"sum =\",a+b)\n",
    "print(\"subtraction =\",a-b)\n",
    "print(\"multiplication =\",a*b)\n",
    "print(\"division =\",a/b)"
   ]
  },
  {
   "cell_type": "code",
   "execution_count": 14,
   "id": "99a2295b-5a2a-4d24-8c41-107b7ef11e08",
   "metadata": {},
   "outputs": [
    {
     "name": "stdout",
     "output_type": "stream",
     "text": [
      "    1    \n",
      "   1 1   \n",
      "  1 2 1  \n",
      " 1 3 3 1 \n",
      "1 4 6 4 1\n"
     ]
    }
   ],
   "source": [
    "#Exercise 8: Create a Pyramid of Numbers Using Only print()\n",
    "print(\"    1    \")\n",
    "print(\"   1 1   \")\n",
    "print(\"  1 2 1  \")\n",
    "print(\" 1 3 3 1 \")\n",
    "print(\"1 4 6 4 1\")"
   ]
  },
  {
   "cell_type": "code",
   "execution_count": 16,
   "id": "983f0d1f-a72f-48cd-b7db-b3b7ab9c1af1",
   "metadata": {},
   "outputs": [
    {
     "name": "stdin",
     "output_type": "stream",
     "text": [
      "Enter your budget: 1000\n"
     ]
    },
    {
     "name": "stdout",
     "output_type": "stream",
     "text": [
      "Eggs\n"
     ]
    }
   ],
   "source": [
    "#Exercise 9:\n",
    "#Write a Python program that performs the following steps:\n",
    "#Ask the user to input their budget.\n",
    "#If the budget is more than 1000, print \"Mutton\" (indicating the user can afford 1 kg of meat).\n",
    "#If the budget is more than 500 but less than or equal to 1000,\n",
    "#print \"Eggs\" (indicating the user can afford 12 eggs).\n",
    "#If the budget is 500 or less, print \"keep fast\"\n",
    "budget = int(input(\"Enter your budget:\"))\n",
    "if budget>1000:\n",
    "    print(\"Mutton\")\n",
    "elif budget>500:\n",
    "    print(\"Eggs\")\n",
    "else:\n",
    "    print(\"keep fast\")"
   ]
  },
  {
   "cell_type": "code",
   "execution_count": 20,
   "id": "a20db29f-a2a5-41b0-bbee-68ec5bc28ada",
   "metadata": {},
   "outputs": [
    {
     "name": "stdin",
     "output_type": "stream",
     "text": [
      "enter the number of month: 13\n"
     ]
    },
    {
     "name": "stdout",
     "output_type": "stream",
     "text": [
      "Invalid Input\n"
     ]
    }
   ],
   "source": [
    "#Exercise 10:\n",
    "#Implement a switch-case statement in Python to map month numbers to their respective names.\n",
    "def switch(month):\n",
    "    match month:\n",
    "        case 1 :\n",
    "            return \"January\"\n",
    "        case 2 :\n",
    "            return \"February\"\n",
    "        case 3 :\n",
    "            return \"March\"\n",
    "        case 4 :\n",
    "            return \"April\"\n",
    "        case 5 :\n",
    "            return \"May\"\n",
    "        case 6 :\n",
    "            return \"June\"\n",
    "        case 7 :\n",
    "            return \"July\"\n",
    "        case 8 :\n",
    "            return \"August\"\n",
    "        case 9 :\n",
    "            return \"September\"\n",
    "        case 10 :\n",
    "            return \"October\"\n",
    "        case 11 :\n",
    "            return \"November\"\n",
    "        case 12 :\n",
    "            return \"December\"\n",
    "        case _  :\n",
    "            return \"Invalid Input\"\n",
    "print(switch(int(input(\"enter the number of month:\"))))"
   ]
  },
  {
   "cell_type": "code",
   "execution_count": 1,
   "id": "49285262-9a86-4c21-86be-bd3ae82eced9",
   "metadata": {},
   "outputs": [
    {
     "name": "stdin",
     "output_type": "stream",
     "text": [
      "Enter first number: 3\n",
      "Enter second number: 5\n",
      "Enter the operator: +\n"
     ]
    },
    {
     "name": "stdout",
     "output_type": "stream",
     "text": [
      "('The sum is:', 8)\n"
     ]
    }
   ],
   "source": [
    "#Exercise 11:\n",
    "#Write a python program making a calc by using two variables \n",
    "#and using operator to compute arithmetic operations\n",
    "a = int(input(\"Enter first number:\"))\n",
    "b = int(input(\"Enter second number:\"))\n",
    "def calculator(operator):\n",
    "    match operator:\n",
    "       case \"+\":\n",
    "           return(\"The sum is:\",a+b)\n",
    "       case \"-\":\n",
    "           return(\"The subraction is:\",a-b)\n",
    "       case \"*\":\n",
    "           return(\"The multiplication is:\",a*b)\n",
    "       case \"/\":\n",
    "           return(\"The division is\",a/b)\n",
    "print(calculator(str(input(\"Enter the operator:\"))))"
   ]
  },
  {
   "cell_type": "code",
   "execution_count": null,
   "id": "84ef8994-46d1-4849-ae7b-be9bc1a56ebe",
   "metadata": {},
   "outputs": [],
   "source": []
  }
 ],
 "metadata": {
  "kernelspec": {
   "display_name": "Python 3 (ipykernel)",
   "language": "python",
   "name": "python3"
  },
  "language_info": {
   "codemirror_mode": {
    "name": "ipython",
    "version": 3
   },
   "file_extension": ".py",
   "mimetype": "text/x-python",
   "name": "python",
   "nbconvert_exporter": "python",
   "pygments_lexer": "ipython3",
   "version": "3.12.7"
  }
 },
 "nbformat": 4,
 "nbformat_minor": 5
}
